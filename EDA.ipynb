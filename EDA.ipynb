{
 "cells": [
  {
   "cell_type": "markdown",
   "id": "6d04b4f8",
   "metadata": {},
   "source": [
    "# STA4724 Final Project\n",
    "## Team 6: Andres Machado, Jackson Smalls, Sarah Taha, and Thomas Tibbets\n",
    "\n",
    "### EDA (Exploratory Data Analysis) Notebook "
   ]
  }
 ],
 "metadata": {
  "language_info": {
   "name": "python"
  }
 },
 "nbformat": 4,
 "nbformat_minor": 5
}
